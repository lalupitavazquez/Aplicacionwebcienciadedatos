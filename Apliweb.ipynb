### INSTALAMOS LAS LIBRERIAS NECESARIAS
### cd C:\Users\6QW95LA_2004\.spyder-py3 
import pandas as pd
import streamlit as st
import plotly.express as px
from PIL import Image

## 1. El código que contenga las instrucciones para el despliegue de un título y una breve descripción de la aplicación web.
st.set_page_config(page_title="Reto: Aplicación web de ciencia de datos")
st.header('Resultados de Socialize your Knowledge') #Va a ser el titulo de la pagina
st.write("Este Dashboard muestra fortalezas y áreas de oportunidad para los empleados de la empresa en tiempo real", unsafe_allow_html=False)

excel_file = 'D:\CIENCIA DE DATOS - TECMTY\employee_data.xlsx'
sheet_name = 'employ' #la hoja de excel que se va a usar
df = pd.read_excel(excel_file, #importo el archivo excel
                   sheet_name = sheet_name, #le digo cual hoja necesito
                   usecols = 'A:U', #aqui traigo las columnas que quiero usar
                   header =0) #desde que fila debe empezar a tomarme la informacion *Empieza a contar desde 0*

## 2. El código que permita desplegar el logotipo de la empresa en la aplicación web.
####(se usa una imagen alusiva ya que no se cuenta con el logo oficial)
image = Image.open('D:\CIENCIA DE DATOS - TECMTY\Socialite.jpg')
st.image(image, caption='Socialize your Knowledge')

## 3. El código que permita desplegar un control para seleccionar el género del empleado.
genero = df['gender'].unique().tolist()
genero_selector = st.multiselect('Género', genero, default=genero)

##4. El código que permita desplegar un control para seleccionar un rango del puntaje dedesempeño del empleado.
desemp = df['performance_score'].unique().tolist() #se crea una lista unica de la columna de score desempeño
desemp_selector = st.slider('Rango de desempeño:',
                          min_value = min(desemp), #el valor minimo va a ser el valor mas pequeño que encuentre dentro de la columna performance_score
                          max_value = max(desemp),#el valor maximo va a ser el valor mas grande que encuentre dentro de la columna performance_score
                          value = (min(desemp),max(desemp))) #que tome desde el minimo, hasta el maximo


##5. El código que permita desplegar un control para seleccionar el estado civil del empleado.
marital = df['marital_status'].unique().tolist()  # filtro para mostarr los datos
marital_selector=st.multiselect('Estado Civil', marital, default=marital) #mostrar el grafico de barras en streamlit


#######################################Ahora necesito que esos selectores y slider me filtren la informacion
mask = (df['performance_score'].between(*desemp_selector))&(df['marital_status'].isin(marital_selector))&(df['gender'].isin(genero_selector))
#st.write(mask)
numero_resultados = df[mask].shape[0] ##number of availables rows
st.markdown(f'*Resultados Disponibles:{numero_resultados}*') ## sale como un titulo que dice cuantos resultados tiene para ese filtro

df_agrupado = df[mask]
st.write(df_agrupado)

##6. El código que permita mostrar un gráfico en donde se visualice la distribución de los puntajes de desempeño.
pie_chart = px.pie(df_agrupado,title = 'Distribución de los puntajes de desempeño',names = 'performance_score',values = 'performance_score') # datos a mostrar en un pie
st.plotly_chart(pie_chart) #mostrar el grafico de barras en streamlit


##7. El código que permita mostrar un gráfico en donde se visualice el promedio de horastrabajadas por el género del empleado.
df_desem = df_agrupado.groupby(['gender'],as_index = False)['average_work_hours'].count() # filtro para mostarr los datos
#st.write(df_desem)
pie_chart = px.pie(df_desem,title = 'Horas promedio trabajadas por género',names = 'gender',values = 'average_work_hours') #datos a mostrar en un pie
st.plotly_chart(pie_chart) #mostrar el grafico de barras en streamlit


##8. El código que permita mostrar un gráfico en donde se visualice la edad de los empleados con respecto al salario de los mismos.
df_edadsalario = df_agrupado.groupby(['age'],as_index = False)['salary'].mean() # filtro para mostarr los dato
bar_chart1 = px.bar(df_edadsalario, 
                   x='age',
                   y='salary',
                   template = 'plotly_white', title= 'Edad empleado vs Salarios')
st.plotly_chart(bar_chart1) #mostrar el grafico de barras en streamlit
st.write(df_edadsalario)

##9. El código que permita mostrar un gráfico en donde se visualice la relación del promedio de horas trabajadas versus el puntaje de desempeño.
df_vs = df_agrupado.groupby(['performance_score'],as_index = False)['average_work_hours'].sum() # filtro para mostarr los dato
bar_chart = px.bar(df_vs, x='performance_score',y='average_work_hours',template = 'plotly_white',title='Horas trabajadas vs puntaje de desempeño',color_discrete_sequence = ['#f5b632']*len(df_agrupado))
st.plotly_chart(bar_chart) #mostrar el grafico de barras en streamlit

##10. El código que permita desplegar una conclusión sobre el análisis mostrado en la aplicación web.

st.write('Con este Dashboard nos ayuda a revisar algunas conclusiones generales como: que el mayor puntaje de desempeño es de 3 con el 78.3% , las mujeres son el genero que mas horas trabajadas tienen registradas,en general la mayor edad que trabaja en esta empresa radica entre los 30 y 42 años. Por otro lado si queremos tener mas puntos/observaciones especificas procedemos a seleccionar los filtros que se muestran al principio, por ejemplo, el 100% de los hombres solteros representan el puntaje #3 de desempeño con un 74.6%, otro dato importante es que hay personas de edad " avanzada" que ganan muy por encima de los demas, si revisamos a profundidad nos damos cuenta que en efecto la persona que tiene este sueldo es el President & CEO de la compañia.')



